{
  "nbformat": 4,
  "nbformat_minor": 0,
  "metadata": {
    "colab": {
      "name": "LATIHAN PROJECT  DATA ANALISIS.ipynb",
      "provenance": [],
      "collapsed_sections": [],
      "mount_file_id": "1WdkcQIjPHSjwjdPjrAAyG5PGMOLhXgU1",
      "authorship_tag": "ABX9TyOXu5xg/t701JMOn1pUb5OW",
      "include_colab_link": true
    },
    "kernelspec": {
      "name": "python3",
      "display_name": "Python 3"
    },
    "language_info": {
      "name": "python"
    }
  },
  "cells": [
    {
      "cell_type": "markdown",
      "metadata": {
        "id": "view-in-github",
        "colab_type": "text"
      },
      "source": [
        "<a href=\"https://colab.research.google.com/github/tarsijedo/TUGAS-DATA-ANALISIS/blob/main/LATIHAN_PROJECT_DATA_ANALISIS.ipynb\" target=\"_parent\"><img src=\"https://colab.research.google.com/assets/colab-badge.svg\" alt=\"Open In Colab\"/></a>"
      ]
    },
    {
      "cell_type": "markdown",
      "source": [
        "Import Library Utama"
      ],
      "metadata": {
        "id": "GTxAO1C98hUA"
      }
    },
    {
      "cell_type": "code",
      "source": [
        "import numpy as np\n",
        "import matplotlib.pyplot as plt\n",
        "import pandas as pd\n"
      ],
      "metadata": {
        "id": "YEk4tE5z5eNx"
      },
      "execution_count": null,
      "outputs": []
    },
    {
      "cell_type": "markdown",
      "source": [
        "Input Dataset"
      ],
      "metadata": {
        "id": "VOwjVLQY62oP"
      }
    },
    {
      "cell_type": "code",
      "source": [
        "dataset = pd.read_csv('Data Intelligent Irrigation System.csv')"
      ],
      "metadata": {
        "id": "8NLJ6Uhf7EN-"
      },
      "execution_count": null,
      "outputs": []
    },
    {
      "cell_type": "code",
      "source": [
        "dataset.head()"
      ],
      "metadata": {
        "id": "h_IEHkAd7aKi",
        "colab": {
          "base_uri": "https://localhost:8080/",
          "height": 206
        },
        "outputId": "f0099c48-28ce-44a0-8e57-359b58828de2"
      },
      "execution_count": null,
      "outputs": [
        {
          "output_type": "execute_result",
          "data": {
            "text/plain": [
              "     crop  moisture  temp  pump\n",
              "0  cotton       638    16     1\n",
              "1  cotton       522    18     1\n",
              "2  cotton       741    22     1\n",
              "3  cotton       798    32     1\n",
              "4  cotton       690    28     1"
            ],
            "text/html": [
              "\n",
              "  <div id=\"df-2c854bbc-dbd6-4921-955e-8fa2f9f4600d\">\n",
              "    <div class=\"colab-df-container\">\n",
              "      <div>\n",
              "<style scoped>\n",
              "    .dataframe tbody tr th:only-of-type {\n",
              "        vertical-align: middle;\n",
              "    }\n",
              "\n",
              "    .dataframe tbody tr th {\n",
              "        vertical-align: top;\n",
              "    }\n",
              "\n",
              "    .dataframe thead th {\n",
              "        text-align: right;\n",
              "    }\n",
              "</style>\n",
              "<table border=\"1\" class=\"dataframe\">\n",
              "  <thead>\n",
              "    <tr style=\"text-align: right;\">\n",
              "      <th></th>\n",
              "      <th>crop</th>\n",
              "      <th>moisture</th>\n",
              "      <th>temp</th>\n",
              "      <th>pump</th>\n",
              "    </tr>\n",
              "  </thead>\n",
              "  <tbody>\n",
              "    <tr>\n",
              "      <th>0</th>\n",
              "      <td>cotton</td>\n",
              "      <td>638</td>\n",
              "      <td>16</td>\n",
              "      <td>1</td>\n",
              "    </tr>\n",
              "    <tr>\n",
              "      <th>1</th>\n",
              "      <td>cotton</td>\n",
              "      <td>522</td>\n",
              "      <td>18</td>\n",
              "      <td>1</td>\n",
              "    </tr>\n",
              "    <tr>\n",
              "      <th>2</th>\n",
              "      <td>cotton</td>\n",
              "      <td>741</td>\n",
              "      <td>22</td>\n",
              "      <td>1</td>\n",
              "    </tr>\n",
              "    <tr>\n",
              "      <th>3</th>\n",
              "      <td>cotton</td>\n",
              "      <td>798</td>\n",
              "      <td>32</td>\n",
              "      <td>1</td>\n",
              "    </tr>\n",
              "    <tr>\n",
              "      <th>4</th>\n",
              "      <td>cotton</td>\n",
              "      <td>690</td>\n",
              "      <td>28</td>\n",
              "      <td>1</td>\n",
              "    </tr>\n",
              "  </tbody>\n",
              "</table>\n",
              "</div>\n",
              "      <button class=\"colab-df-convert\" onclick=\"convertToInteractive('df-2c854bbc-dbd6-4921-955e-8fa2f9f4600d')\"\n",
              "              title=\"Convert this dataframe to an interactive table.\"\n",
              "              style=\"display:none;\">\n",
              "        \n",
              "  <svg xmlns=\"http://www.w3.org/2000/svg\" height=\"24px\"viewBox=\"0 0 24 24\"\n",
              "       width=\"24px\">\n",
              "    <path d=\"M0 0h24v24H0V0z\" fill=\"none\"/>\n",
              "    <path d=\"M18.56 5.44l.94 2.06.94-2.06 2.06-.94-2.06-.94-.94-2.06-.94 2.06-2.06.94zm-11 1L8.5 8.5l.94-2.06 2.06-.94-2.06-.94L8.5 2.5l-.94 2.06-2.06.94zm10 10l.94 2.06.94-2.06 2.06-.94-2.06-.94-.94-2.06-.94 2.06-2.06.94z\"/><path d=\"M17.41 7.96l-1.37-1.37c-.4-.4-.92-.59-1.43-.59-.52 0-1.04.2-1.43.59L10.3 9.45l-7.72 7.72c-.78.78-.78 2.05 0 2.83L4 21.41c.39.39.9.59 1.41.59.51 0 1.02-.2 1.41-.59l7.78-7.78 2.81-2.81c.8-.78.8-2.07 0-2.86zM5.41 20L4 18.59l7.72-7.72 1.47 1.35L5.41 20z\"/>\n",
              "  </svg>\n",
              "      </button>\n",
              "      \n",
              "  <style>\n",
              "    .colab-df-container {\n",
              "      display:flex;\n",
              "      flex-wrap:wrap;\n",
              "      gap: 12px;\n",
              "    }\n",
              "\n",
              "    .colab-df-convert {\n",
              "      background-color: #E8F0FE;\n",
              "      border: none;\n",
              "      border-radius: 50%;\n",
              "      cursor: pointer;\n",
              "      display: none;\n",
              "      fill: #1967D2;\n",
              "      height: 32px;\n",
              "      padding: 0 0 0 0;\n",
              "      width: 32px;\n",
              "    }\n",
              "\n",
              "    .colab-df-convert:hover {\n",
              "      background-color: #E2EBFA;\n",
              "      box-shadow: 0px 1px 2px rgba(60, 64, 67, 0.3), 0px 1px 3px 1px rgba(60, 64, 67, 0.15);\n",
              "      fill: #174EA6;\n",
              "    }\n",
              "\n",
              "    [theme=dark] .colab-df-convert {\n",
              "      background-color: #3B4455;\n",
              "      fill: #D2E3FC;\n",
              "    }\n",
              "\n",
              "    [theme=dark] .colab-df-convert:hover {\n",
              "      background-color: #434B5C;\n",
              "      box-shadow: 0px 1px 3px 1px rgba(0, 0, 0, 0.15);\n",
              "      filter: drop-shadow(0px 1px 2px rgba(0, 0, 0, 0.3));\n",
              "      fill: #FFFFFF;\n",
              "    }\n",
              "  </style>\n",
              "\n",
              "      <script>\n",
              "        const buttonEl =\n",
              "          document.querySelector('#df-2c854bbc-dbd6-4921-955e-8fa2f9f4600d button.colab-df-convert');\n",
              "        buttonEl.style.display =\n",
              "          google.colab.kernel.accessAllowed ? 'block' : 'none';\n",
              "\n",
              "        async function convertToInteractive(key) {\n",
              "          const element = document.querySelector('#df-2c854bbc-dbd6-4921-955e-8fa2f9f4600d');\n",
              "          const dataTable =\n",
              "            await google.colab.kernel.invokeFunction('convertToInteractive',\n",
              "                                                     [key], {});\n",
              "          if (!dataTable) return;\n",
              "\n",
              "          const docLinkHtml = 'Like what you see? Visit the ' +\n",
              "            '<a target=\"_blank\" href=https://colab.research.google.com/notebooks/data_table.ipynb>data table notebook</a>'\n",
              "            + ' to learn more about interactive tables.';\n",
              "          element.innerHTML = '';\n",
              "          dataTable['output_type'] = 'display_data';\n",
              "          await google.colab.output.renderOutput(dataTable, element);\n",
              "          const docLink = document.createElement('div');\n",
              "          docLink.innerHTML = docLinkHtml;\n",
              "          element.appendChild(docLink);\n",
              "        }\n",
              "      </script>\n",
              "    </div>\n",
              "  </div>\n",
              "  "
            ]
          },
          "metadata": {},
          "execution_count": 4
        }
      ]
    },
    {
      "cell_type": "code",
      "source": [
        "x = dataset.iloc[:,[1, 2]].values\n",
        "y = dataset.iloc[:, -1].values"
      ],
      "metadata": {
        "id": "0a2mdTks7dTO"
      },
      "execution_count": null,
      "outputs": []
    },
    {
      "cell_type": "code",
      "source": [
        "print (x)"
      ],
      "metadata": {
        "id": "FY8pgp0C8QZ2",
        "colab": {
          "base_uri": "https://localhost:8080/"
        },
        "outputId": "56bf0d68-b434-42ff-d54e-7dca3a4746cf"
      },
      "execution_count": null,
      "outputs": [
        {
          "output_type": "stream",
          "name": "stdout",
          "text": [
            "[[ 638   16]\n",
            " [ 522   18]\n",
            " [ 741   22]\n",
            " [ 798   32]\n",
            " [ 690   28]\n",
            " [ 558   23]\n",
            " [ 578   12]\n",
            " [ 673   35]\n",
            " [ 642   45]\n",
            " [ 723   11]\n",
            " [ 671   23]\n",
            " [ 758   34]\n",
            " [ 507   45]\n",
            " [ 586   33]\n",
            " [ 703   45]\n",
            " [ 716   25]\n",
            " [ 724   11]\n",
            " [ 828   41]\n",
            " [ 633   23]\n",
            " [ 783   18]\n",
            " [ 635   36]\n",
            " [ 525   33]\n",
            " [ 636   24]\n",
            " [ 813   15]\n",
            " [ 736   44]\n",
            " [ 833   13]\n",
            " [ 808   29]\n",
            " [ 714   14]\n",
            " [ 806   28]\n",
            " [ 681   31]\n",
            " [ 661   35]\n",
            " [ 546   32]\n",
            " [ 759   10]\n",
            " [ 803   21]\n",
            " [ 670   22]\n",
            " [ 796   21]\n",
            " [ 665   32]\n",
            " [ 687   11]\n",
            " [ 573   13]\n",
            " [ 812   38]\n",
            " [ 698   45]\n",
            " [ 675   39]\n",
            " [ 700   38]\n",
            " [ 749   38]\n",
            " [ 537   44]\n",
            " [ 748   27]\n",
            " [ 824   37]\n",
            " [ 839   29]\n",
            " [ 740   31]\n",
            " [ 533   42]\n",
            " [ 775   40]\n",
            " [ 663   24]\n",
            " [ 639   14]\n",
            " [ 612   31]\n",
            " [ 580   14]\n",
            " [ 632   14]\n",
            " [ 535   17]\n",
            " [ 818   15]\n",
            " [ 503   44]\n",
            " [ 788   12]\n",
            " [ 513   27]\n",
            " [ 729   41]\n",
            " [ 659   29]\n",
            " [ 629   41]\n",
            " [ 641   35]\n",
            " [ 676   30]\n",
            " [ 739   14]\n",
            " [ 773   20]\n",
            " [ 792   15]\n",
            " [ 509   19]\n",
            " [ 682   40]\n",
            " [ 637   29]\n",
            " [ 769   13]\n",
            " [ 611   12]\n",
            " [ 574   32]\n",
            " [ 623   32]\n",
            " [ 539   26]\n",
            " [ 595   30]\n",
            " [ 683   39]\n",
            " [ 760   18]\n",
            " [ 697   25]\n",
            " [ 766   39]\n",
            " [ 768   17]\n",
            " [ 734   16]\n",
            " [ 579   45]\n",
            " [ 737   34]\n",
            " [ 699   22]\n",
            " [ 757   43]\n",
            " [ 624   15]\n",
            " [ 545   29]\n",
            " [ 850   16]\n",
            " [ 722   26]\n",
            " [ 795   15]\n",
            " [ 817   18]\n",
            " [ 830   44]\n",
            " [ 843   41]\n",
            " [ 553   35]\n",
            " [ 837   30]\n",
            " [ 588   18]\n",
            " [ 733   26]\n",
            " [  89   42]\n",
            " [  76   35]\n",
            " [ 434   19]\n",
            " [ 487   16]\n",
            " [ 493   18]\n",
            " [ 421   39]\n",
            " [ 379   23]\n",
            " [ 177   12]\n",
            " [ 482   27]\n",
            " [ 168   10]\n",
            " [ 208   39]\n",
            " [ 162   29]\n",
            " [ 306   25]\n",
            " [ 394   27]\n",
            " [ 184   29]\n",
            " [ 429   17]\n",
            " [  81   20]\n",
            " [ 158   17]\n",
            " [ 435   10]\n",
            " [ 401   17]\n",
            " [ 271   33]\n",
            " [ 161   18]\n",
            " [ 124   40]\n",
            " [  26   23]\n",
            " [ 175   15]\n",
            " [ 293   25]\n",
            " [ 354   20]\n",
            " [ 245   43]\n",
            " [ 462   32]\n",
            " [ 466   41]\n",
            " [  75   37]\n",
            " [ 209   43]\n",
            " [ 304   43]\n",
            " [ 256   40]\n",
            " [ 141   43]\n",
            " [ 302   23]\n",
            " [  87   12]\n",
            " [  72   13]\n",
            " [   4   42]\n",
            " [ 178   39]\n",
            " [  36   16]\n",
            " [  39   38]\n",
            " [ 107   31]\n",
            " [  21   37]\n",
            " [  59   20]\n",
            " [ 206   37]\n",
            " [ 143   43]\n",
            " [  52   44]\n",
            " [ 149   24]\n",
            " [  74   20]\n",
            " [ 861   33]\n",
            " [ 938   14]\n",
            " [ 981   36]\n",
            " [1019   37]\n",
            " [ 876   40]\n",
            " [1020   27]\n",
            " [ 933   42]\n",
            " [ 889   39]\n",
            " [ 865   17]\n",
            " [ 920   10]\n",
            " [ 926   18]\n",
            " [ 923   10]\n",
            " [ 853   29]\n",
            " [ 922   23]\n",
            " [ 998   28]\n",
            " [ 966   16]\n",
            " [ 950   13]\n",
            " [1001   36]\n",
            " [ 930   18]\n",
            " [ 999   30]\n",
            " [ 873   44]\n",
            " [ 969   39]\n",
            " [ 881   26]\n",
            " [ 896   42]\n",
            " [ 857   20]\n",
            " [1010   10]\n",
            " [ 947   41]\n",
            " [ 859   20]\n",
            " [1005   43]\n",
            " [ 937   28]\n",
            " [ 893   39]\n",
            " [ 872   10]\n",
            " [ 878   29]\n",
            " [ 883   40]\n",
            " [ 888   44]\n",
            " [1009   21]\n",
            " [ 917   33]\n",
            " [ 974   28]\n",
            " [ 858   19]\n",
            " [ 918   19]\n",
            " [1021   22]\n",
            " [ 986   36]\n",
            " [ 968   17]\n",
            " [1015   35]\n",
            " [ 914   35]\n",
            " [ 941   13]\n",
            " [ 902   45]\n",
            " [ 894   42]\n",
            " [1022   45]\n",
            " [ 979   10]]\n"
          ]
        }
      ]
    },
    {
      "cell_type": "code",
      "source": [
        "print (y)"
      ],
      "metadata": {
        "id": "we5REhAr8YOl",
        "colab": {
          "base_uri": "https://localhost:8080/"
        },
        "outputId": "89af0143-9e71-4039-8673-e48bd3d6cfb5"
      },
      "execution_count": null,
      "outputs": [
        {
          "output_type": "stream",
          "name": "stdout",
          "text": [
            "[1 1 1 1 1 1 1 1 1 1 1 1 1 1 1 1 1 1 1 1 1 1 1 1 1 1 1 1 1 1 1 1 1 1 1 1 1\n",
            " 1 1 1 1 1 1 1 1 1 1 1 1 1 1 1 1 1 1 1 1 1 1 1 1 1 1 1 1 1 1 1 1 1 1 1 1 1\n",
            " 1 1 1 1 1 1 1 1 1 1 1 1 1 1 1 1 1 1 1 1 1 1 1 1 1 1 0 0 0 0 0 0 0 0 0 0 0\n",
            " 0 0 0 0 0 0 0 0 0 0 0 0 0 0 0 0 0 0 0 0 0 0 0 0 0 0 0 0 0 0 0 0 0 0 0 0 0\n",
            " 0 0 1 1 1 1 1 1 1 1 1 1 1 1 1 1 1 1 1 1 1 1 1 1 1 1 1 1 1 1 1 1 1 1 1 1 1\n",
            " 1 1 1 1 1 1 1 1 1 1 1 1 1 1 1]\n"
          ]
        }
      ]
    },
    {
      "cell_type": "markdown",
      "source": [
        "Membagi Dataset ke Data Training dan Data Testing"
      ],
      "metadata": {
        "id": "etaEsdZk9MVy"
      }
    },
    {
      "cell_type": "code",
      "source": [
        "from sklearn.model_selection import train_test_split\n",
        "x_train, x_test, y_train, y_test = train_test_split(x, y, test_size=0.25, random_state=0)"
      ],
      "metadata": {
        "id": "WBOpTX1m9hj1"
      },
      "execution_count": null,
      "outputs": []
    },
    {
      "cell_type": "code",
      "source": [
        "print(x_train)"
      ],
      "metadata": {
        "id": "LdE200m0-bL-",
        "colab": {
          "base_uri": "https://localhost:8080/"
        },
        "outputId": "77669241-8ca4-423f-801c-ce49a12a19cf"
      },
      "execution_count": null,
      "outputs": [
        {
          "output_type": "stream",
          "name": "stdout",
          "text": [
            "[[ 637   29]\n",
            " [ 175   15]\n",
            " [ 888   44]\n",
            " [ 837   30]\n",
            " [  74   20]\n",
            " [ 736   44]\n",
            " [ 661   35]\n",
            " [ 926   18]\n",
            " [ 698   45]\n",
            " [ 535   17]\n",
            " [ 209   43]\n",
            " [ 553   35]\n",
            " [ 872   10]\n",
            " [ 783   18]\n",
            " [1019   37]\n",
            " [ 795   15]\n",
            " [ 580   14]\n",
            " [ 922   23]\n",
            " [ 663   24]\n",
            " [ 699   22]\n",
            " [ 178   39]\n",
            " [ 850   16]\n",
            " [  72   13]\n",
            " [  76   35]\n",
            " [  59   20]\n",
            " [ 545   29]\n",
            " [ 168   10]\n",
            " [ 703   45]\n",
            " [ 714   14]\n",
            " [  39   38]\n",
            " [ 974   28]\n",
            " [ 824   37]\n",
            " [   4   42]\n",
            " [ 941   13]\n",
            " [ 482   27]\n",
            " [ 659   29]\n",
            " [ 741   22]\n",
            " [ 788   12]\n",
            " [  87   12]\n",
            " [ 894   42]\n",
            " [ 749   38]\n",
            " [ 671   23]\n",
            " [ 914   35]\n",
            " [ 611   12]\n",
            " [ 902   45]\n",
            " [1005   43]\n",
            " [1010   10]\n",
            " [ 354   20]\n",
            " [ 817   18]\n",
            " [ 306   25]\n",
            " [ 865   17]\n",
            " [ 986   36]\n",
            " [ 775   40]\n",
            " [ 638   16]\n",
            " [ 830   44]\n",
            " [ 208   39]\n",
            " [ 843   41]\n",
            " [ 641   35]\n",
            " [1001   36]\n",
            " [ 675   39]\n",
            " [ 509   19]\n",
            " [ 533   42]\n",
            " [ 740   31]\n",
            " [ 737   34]\n",
            " [ 586   33]\n",
            " [ 923   10]\n",
            " [ 813   15]\n",
            " [ 917   33]\n",
            " [ 302   23]\n",
            " [ 635   36]\n",
            " [ 716   25]\n",
            " [ 683   39]\n",
            " [ 493   18]\n",
            " [ 639   14]\n",
            " [  89   42]\n",
            " [ 539   26]\n",
            " [ 798   32]\n",
            " [  81   20]\n",
            " [ 998   28]\n",
            " [1022   45]\n",
            " [ 578   12]\n",
            " [ 792   15]\n",
            " [ 579   45]\n",
            " [ 161   18]\n",
            " [1020   27]\n",
            " [ 969   39]\n",
            " [ 933   42]\n",
            " [ 722   26]\n",
            " [ 979   10]\n",
            " [ 758   34]\n",
            " [ 401   17]\n",
            " [ 434   19]\n",
            " [ 796   21]\n",
            " [ 818   15]\n",
            " [ 676   30]\n",
            " [ 522   18]\n",
            " [ 271   33]\n",
            " [ 853   29]\n",
            " [ 700   38]\n",
            " [ 421   39]\n",
            " [ 304   43]\n",
            " [ 896   42]\n",
            " [ 828   41]\n",
            " [ 573   13]\n",
            " [ 256   40]\n",
            " [ 612   31]\n",
            " [ 889   39]\n",
            " [ 462   32]\n",
            " [ 670   22]\n",
            " [ 806   28]\n",
            " [ 184   29]\n",
            " [ 938   14]\n",
            " [ 546   32]\n",
            " [ 950   13]\n",
            " [ 245   43]\n",
            " [ 947   41]\n",
            " [ 759   10]\n",
            " [ 107   31]\n",
            " [ 999   30]\n",
            " [  52   44]\n",
            " [ 681   31]\n",
            " [ 733   26]\n",
            " [ 768   17]\n",
            " [ 760   18]\n",
            " [ 429   17]\n",
            " [ 149   24]\n",
            " [1015   35]\n",
            " [ 769   13]\n",
            " [ 595   30]\n",
            " [ 833   13]\n",
            " [ 966   16]\n",
            " [ 766   39]\n",
            " [ 858   19]\n",
            " [ 857   20]\n",
            " [1021   22]\n",
            " [ 812   38]\n",
            " [ 503   44]\n",
            " [  36   16]\n",
            " [ 624   15]\n",
            " [ 682   40]\n",
            " [ 757   43]\n",
            " [ 665   32]\n",
            " [ 525   33]\n",
            " [ 723   11]\n",
            " [ 487   16]\n",
            " [ 773   20]\n",
            " [ 968   17]\n",
            " [ 158   17]\n",
            " [ 839   29]\n",
            " [ 881   26]]\n"
          ]
        }
      ]
    },
    {
      "cell_type": "code",
      "source": [
        "len(x_train)"
      ],
      "metadata": {
        "id": "hUHVqkKO-hLS",
        "colab": {
          "base_uri": "https://localhost:8080/"
        },
        "outputId": "38628137-a2e3-4164-da49-5e9b5a9d0647"
      },
      "execution_count": null,
      "outputs": [
        {
          "output_type": "execute_result",
          "data": {
            "text/plain": [
              "150"
            ]
          },
          "metadata": {},
          "execution_count": 52
        }
      ]
    },
    {
      "cell_type": "code",
      "source": [
        "len(x_train)"
      ],
      "metadata": {
        "id": "1wbdJ1Fy-qOG",
        "colab": {
          "base_uri": "https://localhost:8080/"
        },
        "outputId": "311e6740-c2f6-4404-917a-00a854b3fb22"
      },
      "execution_count": null,
      "outputs": [
        {
          "output_type": "execute_result",
          "data": {
            "text/plain": [
              "150"
            ]
          },
          "metadata": {},
          "execution_count": 53
        }
      ]
    },
    {
      "cell_type": "code",
      "source": [
        "len(x)"
      ],
      "metadata": {
        "id": "ih3p55E4-0f8",
        "colab": {
          "base_uri": "https://localhost:8080/"
        },
        "outputId": "3e808581-11a1-487c-9cbd-4914740331ba"
      },
      "execution_count": null,
      "outputs": [
        {
          "output_type": "execute_result",
          "data": {
            "text/plain": [
              "200"
            ]
          },
          "metadata": {},
          "execution_count": 15
        }
      ]
    },
    {
      "cell_type": "code",
      "source": [
        "len(x_test)"
      ],
      "metadata": {
        "id": "We-rh0AI_gHK",
        "colab": {
          "base_uri": "https://localhost:8080/"
        },
        "outputId": "a6b063d4-2036-4b2e-e76d-2f624d9f34c1"
      },
      "execution_count": null,
      "outputs": [
        {
          "output_type": "execute_result",
          "data": {
            "text/plain": [
              "50"
            ]
          },
          "metadata": {},
          "execution_count": 14
        }
      ]
    },
    {
      "cell_type": "code",
      "source": [
        "print(y_train)"
      ],
      "metadata": {
        "id": "X9jZmuEU_9P9",
        "colab": {
          "base_uri": "https://localhost:8080/"
        },
        "outputId": "14b19d77-8212-4760-99fb-dcb7fd314503"
      },
      "execution_count": null,
      "outputs": [
        {
          "output_type": "stream",
          "name": "stdout",
          "text": [
            "[1 0 1 1 0 1 1 1 1 1 0 1 1 1 1 1 1 1 1 1 0 1 0 0 0 1 0 1 1 0 1 1 0 1 0 1 1\n",
            " 1 0 1 1 1 1 1 1 1 1 0 1 0 1 1 1 1 1 0 1 1 1 1 1 1 1 1 1 1 1 1 0 1 1 1 0 1\n",
            " 0 1 1 0 1 1 1 1 1 0 1 1 1 1 1 1 0 0 1 1 1 1 0 1 1 0 0 1 1 1 0 1 1 0 1 1 0\n",
            " 1 1 1 0 1 1 0 1 0 1 1 1 1 0 0 1 1 1 1 1 1 1 1 1 1 1 0 1 1 1 1 1 1 0 1 1 0\n",
            " 1 1]\n"
          ]
        }
      ]
    },
    {
      "cell_type": "code",
      "source": [
        "len(y_train)"
      ],
      "metadata": {
        "id": "XmHa5AVdADJO",
        "colab": {
          "base_uri": "https://localhost:8080/"
        },
        "outputId": "0631e3df-caf1-4a7b-e1fb-136e7382a8ee"
      },
      "execution_count": null,
      "outputs": [
        {
          "output_type": "execute_result",
          "data": {
            "text/plain": [
              "150"
            ]
          },
          "metadata": {},
          "execution_count": 17
        }
      ]
    },
    {
      "cell_type": "code",
      "source": [
        "len(y_test)"
      ],
      "metadata": {
        "id": "6OK4lDmCAIqn",
        "colab": {
          "base_uri": "https://localhost:8080/"
        },
        "outputId": "722c5a26-352c-47d4-ea79-2772c02a1e95"
      },
      "execution_count": null,
      "outputs": [
        {
          "output_type": "execute_result",
          "data": {
            "text/plain": [
              "50"
            ]
          },
          "metadata": {},
          "execution_count": 18
        }
      ]
    },
    {
      "cell_type": "markdown",
      "source": [
        "Scaling Data"
      ],
      "metadata": {
        "id": "KX8glGkK1WYI"
      }
    },
    {
      "cell_type": "code",
      "source": [
        "from sklearn.preprocessing import StandardScaler\n",
        "sc = StandardScaler()\n",
        "x_train = sc.fit_transform(x_train)\n",
        "x_test = sc.transform(x_test)"
      ],
      "metadata": {
        "id": "6KRFIjh21cKC"
      },
      "execution_count": null,
      "outputs": []
    },
    {
      "cell_type": "code",
      "source": [
        "print(x_train)"
      ],
      "metadata": {
        "id": "pC33n0WI3NfH",
        "colab": {
          "base_uri": "https://localhost:8080/"
        },
        "outputId": "6f7b2452-c4e0-4bd1-e1a8-d27b97677097"
      },
      "execution_count": null,
      "outputs": [
        {
          "output_type": "stream",
          "name": "stdout",
          "text": [
            "[[-0.02646906  0.14049224]\n",
            " [-1.68948442 -1.14226299]\n",
            " [ 0.87703063  1.51487285]\n",
            " [ 0.69345101  0.23211761]\n",
            " [-2.05304406 -0.68413612]\n",
            " [ 0.32989137  1.51487285]\n",
            " [ 0.05992135  0.69024448]\n",
            " [ 1.01381544 -0.86738687]\n",
            " [ 0.19310656  1.60649822]\n",
            " [-0.3936283  -0.95901225]\n",
            " [-1.56709801  1.42324747]\n",
            " [-0.32883549  0.69024448]\n",
            " [ 0.81943702 -1.60038986]\n",
            " [ 0.49907259 -0.86738687]\n",
            " [ 1.34857827  0.87349523]\n",
            " [ 0.54226779 -1.14226299]\n",
            " [-0.23164628 -1.23388837]\n",
            " [ 0.99941704 -0.40926   ]\n",
            " [ 0.06712055 -0.31763463]\n",
            " [ 0.19670616 -0.50088538]\n",
            " [-1.67868562  1.05674598]\n",
            " [ 0.74024581 -1.05063762]\n",
            " [-2.06024326 -1.32551374]\n",
            " [-2.04584486  0.69024448]\n",
            " [-2.10703806 -0.68413612]\n",
            " [-0.35763229  0.14049224]\n",
            " [-1.71468162 -1.60038986]\n",
            " [ 0.21110456  1.60649822]\n",
            " [ 0.25070017 -1.23388837]\n",
            " [-2.17903007  0.9651206 ]\n",
            " [ 1.18659626  0.04886687]\n",
            " [ 0.6466562   0.87349523]\n",
            " [-2.30501608  1.3316221 ]\n",
            " [ 1.06780944 -1.32551374]\n",
            " [-0.58440712 -0.04275851]\n",
            " [ 0.05272215  0.14049224]\n",
            " [ 0.34788938 -0.50088538]\n",
            " [ 0.51707059 -1.41713912]\n",
            " [-2.00624925 -1.41713912]\n",
            " [ 0.89862823  1.3316221 ]\n",
            " [ 0.37668618  0.9651206 ]\n",
            " [ 0.09591735 -0.40926   ]\n",
            " [ 0.97062024  0.69024448]\n",
            " [-0.12005867 -1.41713912]\n",
            " [ 0.92742503  1.60649822]\n",
            " [ 1.29818387  1.42324747]\n",
            " [ 1.31618187 -1.60038986]\n",
            " [-1.04515596 -0.68413612]\n",
            " [ 0.621459   -0.86738687]\n",
            " [-1.21793678 -0.22600926]\n",
            " [ 0.79423982 -0.95901225]\n",
            " [ 1.22979146  0.78186986]\n",
            " [ 0.47027579  1.14837135]\n",
            " [-0.02286946 -1.05063762]\n",
            " [ 0.66825381  1.51487285]\n",
            " [-1.57069761  1.05674598]\n",
            " [ 0.71504861  1.23999673]\n",
            " [-0.01207066  0.69024448]\n",
            " [ 1.28378547  0.78186986]\n",
            " [ 0.11031575  1.05674598]\n",
            " [-0.48721791 -0.7757615 ]\n",
            " [-0.4008275   1.3316221 ]\n",
            " [ 0.34428977  0.32374299]\n",
            " [ 0.33349097  0.59861911]\n",
            " [-0.21004868  0.50699374]\n",
            " [ 1.00301664 -1.60038986]\n",
            " [ 0.6070606  -1.14226299]\n",
            " [ 0.98141904  0.50699374]\n",
            " [-1.23233518 -0.40926   ]\n",
            " [-0.03366826  0.78186986]\n",
            " [ 0.25789937 -0.22600926]\n",
            " [ 0.13911255  1.05674598]\n",
            " [-0.54481151 -0.86738687]\n",
            " [-0.01926986 -1.23388837]\n",
            " [-1.99905005  1.3316221 ]\n",
            " [-0.3792299  -0.13438388]\n",
            " [ 0.55306659  0.41536836]\n",
            " [-2.02784686 -0.68413612]\n",
            " [ 1.27298666  0.04886687]\n",
            " [ 1.35937707  1.60649822]\n",
            " [-0.23884548 -1.41713912]\n",
            " [ 0.53146899 -1.14226299]\n",
            " [-0.23524588  1.60649822]\n",
            " [-1.73987883 -0.86738687]\n",
            " [ 1.35217787 -0.04275851]\n",
            " [ 1.16859825  1.05674598]\n",
            " [ 1.03901264  1.3316221 ]\n",
            " [ 0.27949697 -0.13438388]\n",
            " [ 1.20459426 -1.60038986]\n",
            " [ 0.40908258  0.59861911]\n",
            " [-0.87597474 -0.95901225]\n",
            " [-0.75718793 -0.7757615 ]\n",
            " [ 0.54586739 -0.59251075]\n",
            " [ 0.6250586  -1.14226299]\n",
            " [ 0.11391535  0.23211761]\n",
            " [-0.4404231  -0.86738687]\n",
            " [-1.34392279  0.50699374]\n",
            " [ 0.75104461  0.14049224]\n",
            " [ 0.20030576  0.9651206 ]\n",
            " [-0.80398274  1.05674598]\n",
            " [-1.22513598  1.42324747]\n",
            " [ 0.90582743  1.3316221 ]\n",
            " [ 0.66105461  1.23999673]\n",
            " [-0.25684348 -1.32551374]\n",
            " [-1.39791679  1.14837135]\n",
            " [-0.11645907  0.32374299]\n",
            " [ 0.88063023  1.05674598]\n",
            " [-0.65639912  0.41536836]\n",
            " [ 0.09231775 -0.50088538]\n",
            " [ 0.5818634   0.04886687]\n",
            " [-1.65708802  0.14049224]\n",
            " [ 1.05701064 -1.23388837]\n",
            " [-0.35403269  0.41536836]\n",
            " [ 1.10020585 -1.32551374]\n",
            " [-1.4375124   1.42324747]\n",
            " [ 1.08940705  1.23999673]\n",
            " [ 0.41268218 -1.60038986]\n",
            " [-1.93425725  0.32374299]\n",
            " [ 1.27658627  0.23211761]\n",
            " [-2.13223527  1.51487285]\n",
            " [ 0.13191335  0.32374299]\n",
            " [ 0.31909257 -0.13438388]\n",
            " [ 0.44507858 -0.95901225]\n",
            " [ 0.41628178 -0.86738687]\n",
            " [-0.77518593 -0.95901225]\n",
            " [-1.78307403 -0.31763463]\n",
            " [ 1.33417987  0.69024448]\n",
            " [ 0.44867818 -1.32551374]\n",
            " [-0.17765228  0.23211761]\n",
            " [ 0.67905261 -1.32551374]\n",
            " [ 1.15779945 -1.05063762]\n",
            " [ 0.43787938  1.05674598]\n",
            " [ 0.76904262 -0.7757615 ]\n",
            " [ 0.76544302 -0.68413612]\n",
            " [ 1.35577747 -0.50088538]\n",
            " [ 0.603461    0.9651206 ]\n",
            " [-0.50881551  1.51487285]\n",
            " [-2.18982887 -1.05063762]\n",
            " [-0.07326387 -1.14226299]\n",
            " [ 0.13551295  1.14837135]\n",
            " [ 0.40548298  1.42324747]\n",
            " [ 0.07431975  0.41536836]\n",
            " [-0.4296243   0.50699374]\n",
            " [ 0.28309657 -1.50876449]\n",
            " [-0.56640911 -1.05063762]\n",
            " [ 0.46307659 -0.68413612]\n",
            " [ 1.16499865 -0.95901225]\n",
            " [-1.75067763 -0.95901225]\n",
            " [ 0.70065021  0.14049224]\n",
            " [ 0.85183342 -0.13438388]]\n"
          ]
        }
      ]
    },
    {
      "cell_type": "code",
      "source": [
        "print(x_test)"
      ],
      "metadata": {
        "id": "bWP6P28K3Tfl",
        "colab": {
          "base_uri": "https://localhost:8080/"
        },
        "outputId": "d53e0036-a60a-49ff-8527-8a5a43e3796e"
      },
      "execution_count": null,
      "outputs": [
        {
          "output_type": "stream",
          "name": "stdout",
          "text": [
            "[[-0.04086746 -0.40926   ]\n",
            " [ 0.82303662  1.51487285]\n",
            " [-1.68228522 -1.41713912]\n",
            " [-0.20284948 -0.86738687]\n",
            " [ 0.77264222 -0.68413612]\n",
            " [ 0.84103462  0.14049224]\n",
            " [-0.31083749 -0.40926   ]\n",
            " [-1.80467163  1.42324747]\n",
            " [-0.49441711  1.60649822]\n",
            " [ 1.21179346  0.78186986]\n",
            " [ 0.30469417  1.23999673]\n",
            " [-1.26473158 -0.22600926]\n",
            " [ 0.89502863  1.05674598]\n",
            " [ 0.83383542  1.14837135]\n",
            " [ 0.18950696 -0.22600926]\n",
            " [ 0.10311655  0.69024448]\n",
            " [ 0.5710646  -0.59251075]\n",
            " [-2.04944446  0.87349523]\n",
            " [ 0.15351096 -1.50876449]\n",
            " [-0.25324388  0.41536836]\n",
            " [ 0.85903262  1.14837135]\n",
            " [-1.57789681  0.87349523]\n",
            " [ 0.37308658 -0.04275851]\n",
            " [ 0.99221784 -1.60038986]\n",
            " [-0.4728195  -0.04275851]\n",
            " [-2.22582487 -0.40926   ]\n",
            " [ 1.05341104  0.04886687]\n",
            " [ 1.31258227 -0.59251075]\n",
            " [-1.87306404  1.14837135]\n",
            " [-0.3864291   1.51487285]\n",
            " [ 0.28669617 -1.50876449]\n",
            " [-0.04446706 -1.23388837]\n",
            " [ 0.77984142  0.50699374]\n",
            " [-1.73627923  0.14049224]\n",
            " [-0.03006866 -0.31763463]\n",
            " [ 0.98501864 -0.7757615 ]\n",
            " [-0.64200072  1.23999673]\n",
            " [ 0.16430976  0.04886687]\n",
            " [ 0.32269217 -1.05063762]\n",
            " [-0.95516595 -0.40926   ]\n",
            " [-1.81187083  1.42324747]\n",
            " [ 0.34069017 -1.23388837]\n",
            " [ 0.5890626   0.14049224]\n",
            " [-0.90117195 -0.04275851]\n",
            " [ 1.02821384 -0.86738687]\n",
            " [-0.05526586  1.23999673]\n",
            " [-0.00847106  1.60649822]\n",
            " [-0.07686347  0.41536836]\n",
            " [-0.75358833 -1.60038986]\n",
            " [-2.24382288  0.87349523]]\n"
          ]
        }
      ]
    },
    {
      "cell_type": "markdown",
      "source": [
        "Memanggil Function KNN"
      ],
      "metadata": {
        "id": "LoxrgaJa3bx8"
      }
    },
    {
      "cell_type": "code",
      "source": [
        "from sklearn.neighbors import KNeighborsClassifier\n",
        "classifier = KNeighborsClassifier(n_neighbors=5, metric='minkowski', p=2)\n",
        "classifier.fit(x_train, y_train)"
      ],
      "metadata": {
        "id": "9pA6unVD4Cni",
        "colab": {
          "base_uri": "https://localhost:8080/"
        },
        "outputId": "3f926304-45f7-42ba-efee-7238eaf641c0"
      },
      "execution_count": null,
      "outputs": [
        {
          "output_type": "execute_result",
          "data": {
            "text/plain": [
              "KNeighborsClassifier()"
            ]
          },
          "metadata": {},
          "execution_count": 55
        }
      ]
    },
    {
      "cell_type": "markdown",
      "source": [
        "Menentukan Prediksi"
      ],
      "metadata": {
        "id": "lEH7v4mm6SKw"
      }
    },
    {
      "cell_type": "code",
      "source": [
        "y_pred = classifier.predict(x_test)"
      ],
      "metadata": {
        "id": "3TlD4wCT7AfV"
      },
      "execution_count": null,
      "outputs": []
    },
    {
      "cell_type": "markdown",
      "source": [
        "Evaluasi dan Validasi"
      ],
      "metadata": {
        "id": "10UFDiV07cSf"
      }
    },
    {
      "cell_type": "code",
      "source": [
        "from sklearn.metrics import confusion_matrix\n",
        "cm = confusion_matrix(y_test, y_pred)\n",
        "print(cm)"
      ],
      "metadata": {
        "id": "Ut7hfcbS7hqQ",
        "colab": {
          "base_uri": "https://localhost:8080/"
        },
        "outputId": "da283535-86e6-46e2-b7ff-a872bbd19cd2"
      },
      "execution_count": null,
      "outputs": [
        {
          "output_type": "stream",
          "name": "stdout",
          "text": [
            "[[12  2]\n",
            " [ 0 36]]\n"
          ]
        }
      ]
    },
    {
      "cell_type": "code",
      "source": [
        "from sklearn.metrics import classification_report\n",
        "akurasi = classification_report(y_test, y_pred)\n",
        "print(akurasi)"
      ],
      "metadata": {
        "id": "I5BBP4eb8zf_",
        "colab": {
          "base_uri": "https://localhost:8080/"
        },
        "outputId": "f447892f-8f6a-4d76-ac9e-f16421ca504a"
      },
      "execution_count": null,
      "outputs": [
        {
          "output_type": "stream",
          "name": "stdout",
          "text": [
            "              precision    recall  f1-score   support\n",
            "\n",
            "           0       1.00      0.86      0.92        14\n",
            "           1       0.95      1.00      0.97        36\n",
            "\n",
            "    accuracy                           0.96        50\n",
            "   macro avg       0.97      0.93      0.95        50\n",
            "weighted avg       0.96      0.96      0.96        50\n",
            "\n"
          ]
        }
      ]
    },
    {
      "cell_type": "code",
      "source": [
        "from sklearn.metrics import accuracy_score\n",
        "akurasi = accuracy_score(y_test, y_pred)\n",
        "print(\"Tingkat Akurasi :%d persen\"%(akurasi*100))"
      ],
      "metadata": {
        "id": "9moyXV_j-lHE",
        "colab": {
          "base_uri": "https://localhost:8080/"
        },
        "outputId": "ad0f5156-8577-4dac-b094-ccf6152094fa"
      },
      "execution_count": null,
      "outputs": [
        {
          "output_type": "stream",
          "name": "stdout",
          "text": [
            "Tingkat Akurasi :96 persen\n"
          ]
        }
      ]
    },
    {
      "cell_type": "markdown",
      "source": [
        "Visualisasi Data(Grafik)"
      ],
      "metadata": {
        "id": "e8uGzqnu_x7t"
      }
    },
    {
      "cell_type": "code",
      "source": [
        "from matplotlib.colors import ListedColormap\n",
        "x_set, y_set = x_train, y_train\n",
        "x1, x2 = np.meshgrid(np.arange(start= x_set[:, 0].min()-1, stop =x_set[:, 0].max()+1, step = 0.01),\n",
        "                     np.arange(start= x_set[:, 0].min()-1, stop =x_set[:, 0].max()+1, step = 0.01)) \n",
        "plt.contourf(x1, x2, classifier.predict(np.array([x1.ravel(), x2.ravel()]).T).reshape(x1.shape), alpha = 0.5, cmap = ListedColormap (('red', 'green')))\n",
        "plt.xlim(x1.min(), x1.max())\n",
        "plt.ylim(x2.min(), x2.max())\n",
        "for i, j in enumerate (np.unique(y_set)):\n",
        "    plt.scatter(x_set[y_set == j, 0], x_set[y_set==j,1], c =  ListedColormap(('red', 'green'))(i), label =j)\n",
        "    plt.title('Klasifikasi Data dengan K-Nearest Neighbor')\n",
        "    plt.ylabel('Moisture')\n",
        "    plt.ylabel('Temp')\n",
        "    plt.legend()\n",
        "    plt.show()\n"
      ],
      "metadata": {
        "id": "Qjoa5SwEAC6X",
        "colab": {
          "base_uri": "https://localhost:8080/",
          "height": 338
        },
        "outputId": "e513ea7b-ab59-4953-e38b-89d8e6796397"
      },
      "execution_count": null,
      "outputs": [
        {
          "output_type": "stream",
          "name": "stderr",
          "text": [
            "*c* argument looks like a single numeric RGB or RGBA sequence, which should be avoided as value-mapping will have precedence in case its length matches with *x* & *y*.  Please use the *color* keyword-argument or provide a 2-D array with a single row if you intend to specify the same RGB or RGBA value for all points.\n"
          ]
        },
        {
          "output_type": "display_data",
          "data": {
            "text/plain": [
              "<Figure size 432x288 with 1 Axes>"
            ],
            "image/png": "[encoded data removed]"
          },
          "metadata": {
            "needs_background": "light"
          }
        },
        {
          "output_type": "stream",
          "name": "stderr",
          "text": [
            "*c* argument looks like a single numeric RGB or RGBA sequence, which should be avoided as value-mapping will have precedence in case its length matches with *x* & *y*.  Please use the *color* keyword-argument or provide a 2-D array with a single row if you intend to specify the same RGB or RGBA value for all points.\n"
          ]
        }
      ]
    }
  ]
}