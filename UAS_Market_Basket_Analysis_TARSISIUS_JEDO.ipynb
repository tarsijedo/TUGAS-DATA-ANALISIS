{
  "nbformat": 4,
  "nbformat_minor": 0,
  "metadata": {
    "colab": {
      "name": "UAS Market Basket Analysis_TARSISIUS JEDO.ipynb",
      "provenance": [],
      "collapsed_sections": [],
      "authorship_tag": "ABX9TyMVP9nSQR/nBA5Fss1pO4uX",
      "include_colab_link": true
    },
    "kernelspec": {
      "name": "python3",
      "display_name": "Python 3"
    },
    "language_info": {
      "name": "python"
    }
  },
  "cells": [
    {
      "cell_type": "markdown",
      "metadata": {
        "id": "view-in-github",
        "colab_type": "text"
      },
      "source": [
        "<a href=\"https://colab.research.google.com/github/tarsijedo/TUGAS-DATA-ANALISIS/blob/main/UAS_Market_Basket_Analysis_TARSISIUS_JEDO.ipynb\" target=\"_parent\"><img src=\"https://colab.research.google.com/assets/colab-badge.svg\" alt=\"Open In Colab\"/></a>"
      ]
    },
    {
      "cell_type": "markdown",
      "source": [
        "INPUT DATASET"
      ],
      "metadata": {
        "id": "92pCb6VAG9zY"
      }
    },
    {
      "cell_type": "code",
      "execution_count": 1,
      "metadata": {
        "colab": {
          "base_uri": "https://localhost:8080/"
        },
        "id": "WFGwyut-FN1u",
        "outputId": "a218521e-c1e1-4ed2-faec-893a7abf2160"
      },
      "outputs": [
        {
          "output_type": "execute_result",
          "data": {
            "text/plain": [
              "Counter({('apple', 'egg'): 1, ('apple', 'milk'): 1, ('egg', 'milk'): 2})"
            ]
          },
          "metadata": {},
          "execution_count": 1
        }
      ],
      "source": [
        "import numpy as np\n",
        "from itertools import combinations, groupby\n",
        "from collections import Counter\n",
        "\n",
        "# Sample data\n",
        "orders = np.array([[1,'apple'], [1,'egg'], [1,'milk'], [2,'egg'], [2,'milk']], dtype=object)\n",
        "\n",
        "# Generator that yields item pairs, one at a time\n",
        "def get_item_pairs(order_item):\n",
        "    \n",
        "    # For each order, generate a list of items in that order\n",
        "    for order_id, order_object in groupby(orders, lambda x: x[0]):\n",
        "        item_list = [item[1] for item in order_object]      \n",
        "    \n",
        "        # For each item list, generate item pairs, one at a time\n",
        "        for item_pair in combinations(item_list, 2):\n",
        "            yield item_pair                                      \n",
        "\n",
        "\n",
        "# Counter iterates through the item pairs returned by our generator and keeps a tally of their occurrence\n",
        "Counter(get_item_pairs(orders))"
      ]
    },
    {
      "cell_type": "markdown",
      "source": [
        "INPUT DATASET"
      ],
      "metadata": {
        "id": "BZ7BvEwvGH5w"
      }
    },
    {
      "cell_type": "code",
      "source": [
        "import pandas as pd\n",
        "import numpy as np\n",
        "import sys\n",
        "from itertools import combinations, groupby\n",
        "from collections import Counter\n",
        "from IPython.display import display"
      ],
      "metadata": {
        "id": "VGMfgNsDF21l"
      },
      "execution_count": null,
      "outputs": []
    },
    {
      "cell_type": "code",
      "source": [
        "# Function that returns the size of an object in MB\n",
        "def size(obj):\n",
        "    return \"{0:.2f} MB\".format(sys.getsizeof(obj) / (1000 * 1000))"
      ],
      "metadata": {
        "id": "5jp1R2DdGLSV"
      },
      "execution_count": 2,
      "outputs": []
    },
    {
      "cell_type": "markdown",
      "source": [
        "Data Preparation"
      ],
      "metadata": {
        "id": "KySGZ-QjGh8g"
      }
    },
    {
      "cell_type": "markdown",
      "source": [
        "A. Load order data"
      ],
      "metadata": {
        "id": "uib7ErlLGnfd"
      }
    },
    {
      "cell_type": "code",
      "source": [
        "orders = pd.read_csv('../input/order_products__prior.csv')\n",
        "print('orders -- dimensions: {0};   size: {1}'.format(orders.shape, size(orders)))\n",
        "display(orders.head())"
      ],
      "metadata": {
        "id": "e_B23-IWGWF2"
      },
      "execution_count": null,
      "outputs": []
    },
    {
      "cell_type": "markdown",
      "source": [
        "B. Convert order data into format expected by the association rules function"
      ],
      "metadata": {
        "id": "-AVk1eGkGy8k"
      }
    },
    {
      "cell_type": "code",
      "source": [
        "# Convert from DataFrame to a Series, with order_id as index and item_id as value\n",
        "orders = orders.set_index('order_id')['product_id'].rename('item_id')\n",
        "display(orders.head(10))\n",
        "type(orders)"
      ],
      "metadata": {
        "id": "o3FxCzvIG0GT"
      },
      "execution_count": null,
      "outputs": []
    }
  ]
}